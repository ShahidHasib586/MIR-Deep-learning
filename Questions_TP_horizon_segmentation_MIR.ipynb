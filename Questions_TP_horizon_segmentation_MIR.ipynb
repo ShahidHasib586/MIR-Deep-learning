{
  "cells": [
    {
      "cell_type": "markdown",
      "metadata": {
        "id": "view-in-github",
        "colab_type": "text"
      },
      "source": [
        "<a href=\"https://colab.research.google.com/github/ShahidHasib586/MIR-Deep-learning/blob/main/Questions_TP_horizon_segmentation_MIR.ipynb\" target=\"_parent\"><img src=\"https://colab.research.google.com/assets/colab-badge.svg\" alt=\"Open In Colab\"/></a>"
      ]
    },
    {
      "cell_type": "markdown",
      "metadata": {
        "id": "qVZH1m4tdJ6H"
      },
      "source": [
        "# Deep Learning Lab Assignment: Building a U-Net for Image Segmentation\n",
        "Objective\n",
        "\n",
        "The goal of this lab is to design and implement a U-Net neural network for image segmentation. The network will process infrared images captured by a camera mounted on an autonomous drone boat. The purpose of the segmentation task is to distinguish the sea from the sky. This segmentation will serve two primary purposes:  \n",
        "\n",
        "*   Filtering out detections located in the sky.\n",
        "*    Calculating the distance of a detection relative to the camera based on its distance from the horizon.\n",
        "   \n",
        "\n",
        "# Problem Context\n",
        "\n",
        "Autonomous drone boats rely on visual data to make navigation and detection decisions. Infrared cameras are particularly useful in low-light or challenging environments, such as at night or during foggy conditions. However, to ensure accurate analysis, it is essential to segment the images to separate the sea from the sky.\n",
        "\n",
        "In this lab, you will build and train a U-Net, a convolutional neural network architecture specifically designed for image segmentation tasks. The U-Net will label each pixel in the image as either \"sea\" or \"sky.\" The resulting segmentation map will be used for filtering out false detections in the sky and estimating distances based on the location of the horizon.\n",
        "\n",
        "\n",
        "\n",
        "\n",
        "# Exercise instructions\n",
        "1.  You must answer the questions at the beginning of each paragraph  \n",
        "2.  You must complete the code between #...#\n",
        "3.  You must explain in comments the lines of code that you produce\n",
        "4.  You can help and ask for help from others but you must indicate the person who helped you"
      ]
    },
    {
      "cell_type": "markdown",
      "metadata": {
        "id": "lVTpyzStG6QI"
      },
      "source": [
        "# Deliverables\n",
        "\n",
        "1.   Python code for your U-Net implementation.\n",
        "2.   The trained model (saved as a file)\n",
        "3.   A report summarizing your findings and results ( plot evaluation loss, train loss and accuracy metric)"
      ]
    },
    {
      "cell_type": "code",
      "execution_count": 1,
      "metadata": {
        "colab": {
          "base_uri": "https://localhost:8080/"
        },
        "id": "a6QwNxvmIwVT",
        "outputId": "505c532a-139a-4f16-bd6f-4b4d9101bacf"
      },
      "outputs": [
        {
          "output_type": "stream",
          "name": "stdout",
          "text": [
            "Drive already mounted at /content/drive; to attempt to forcibly remount, call drive.mount(\"/content/drive\", force_remount=True).\n"
          ]
        }
      ],
      "source": [
        "from google.colab import drive\n",
        "drive.mount('/content/drive')"
      ]
    },
    {
      "cell_type": "code",
      "execution_count": 2,
      "metadata": {
        "colab": {
          "base_uri": "https://localhost:8080/",
          "height": 122
        },
        "id": "aoJkBjT6zO_Z",
        "outputId": "90d119b4-0611-4d41-f7e0-7d0e49eafefa"
      },
      "outputs": [
        {
          "output_type": "execute_result",
          "data": {
            "text/plain": [
              "'import os\\nfrom zipfile import ZipFile\\n\\n# List of ZIP files\\nzip_files = [\\'/content/drive/MyDrive/MIR/train_frames-20250112T192858Z-001.zip\\', \\'/content/drive/MyDrive/MIR/train_masks-20250112T192152Z-001.zip\\', \\'/content/drive/MyDrive/MIR/val_frames-20250112T193230Z-001.zip\\', \\'/content/drive/MyDrive/MIR/val_masks-20250112T193113Z-001.zip\\', \\'/content/drive/MyDrive/MIR/test_frames-20250112T193440Z-001.zip\\', \\'/content/drive/MyDrive/MIR/test_masks-20250112T193603Z-001.zip\\']  # Replace with your ZIP file names\\n\\n# Destination folder for unzipped files\\nbase_destination = \\'/content/MIR/datasets\\'\\n\\n# Create the base destination folder if it doesn\\'t exist\\nos.makedirs(base_destination, exist_ok=True)\\n\\n# Loop through the ZIP files and extract each\\nfor zip_file in zip_files:\\n    destination = os.path.join(base_destination, os.path.splitext(zip_file)[0])  # Folder named after the ZIP file\\n    os.makedirs(destination, exist_ok=True)  # Ensure the folder exists\\n    with ZipFile(zip_file, \\'r\\') as zip_ref:\\n        zip_ref.extractall(destination)  # Extract to the specific folder\\n    print(f\"Extracted {zip_file} to {destination}\")\\n\\n# List all folders created\\nprint(\"Unzipped folders:\")\\nprint(os.listdir(base_destination))'"
            ],
            "application/vnd.google.colaboratory.intrinsic+json": {
              "type": "string"
            }
          },
          "metadata": {},
          "execution_count": 2
        }
      ],
      "source": [
        "'''import os\n",
        "from zipfile import ZipFile\n",
        "\n",
        "# List of ZIP files\n",
        "zip_files = ['/content/drive/MyDrive/MIR/train_frames-20250112T192858Z-001.zip', '/content/drive/MyDrive/MIR/train_masks-20250112T192152Z-001.zip', '/content/drive/MyDrive/MIR/val_frames-20250112T193230Z-001.zip', '/content/drive/MyDrive/MIR/val_masks-20250112T193113Z-001.zip', '/content/drive/MyDrive/MIR/test_frames-20250112T193440Z-001.zip', '/content/drive/MyDrive/MIR/test_masks-20250112T193603Z-001.zip']  # Replace with your ZIP file names\n",
        "\n",
        "# Destination folder for unzipped files\n",
        "base_destination = '/content/MIR/datasets'\n",
        "\n",
        "# Create the base destination folder if it doesn't exist\n",
        "os.makedirs(base_destination, exist_ok=True)\n",
        "\n",
        "# Loop through the ZIP files and extract each\n",
        "for zip_file in zip_files:\n",
        "    destination = os.path.join(base_destination, os.path.splitext(zip_file)[0])  # Folder named after the ZIP file\n",
        "    os.makedirs(destination, exist_ok=True)  # Ensure the folder exists\n",
        "    with ZipFile(zip_file, 'r') as zip_ref:\n",
        "        zip_ref.extractall(destination)  # Extract to the specific folder\n",
        "    print(f\"Extracted {zip_file} to {destination}\")\n",
        "\n",
        "# List all folders created\n",
        "print(\"Unzipped folders:\")\n",
        "print(os.listdir(base_destination))'''\n"
      ]
    },
    {
      "cell_type": "code",
      "execution_count": 3,
      "metadata": {
        "id": "t1zXWH5PTZ6T"
      },
      "outputs": [],
      "source": [
        "import os\n",
        "project_path = \"/content/drive/MyDrive/Colab Notebooks/Deep Learning Arnaud Pietrosemoli/HorizonSegmentation/\"\n",
        "data_set_path = \"/content/drive/MyDrive/MIR/\"\n",
        "TRAIN_IMG_DIR = os.path.join(data_set_path,\"train_frames-20250112T192858Z-001/train_frames/train\")\n",
        "TRAIN_MASK_DIR = os.path.join(data_set_path,\"train_masks-20250112T192152Z-001/train_masks/train\")\n",
        "VAL_IMG_DIR = os.path.join(data_set_path,\"val_frames-20250112T193230Z-001/val_frames/val\")\n",
        "VAL_MASK_DIR = os.path.join(data_set_path,\"val_masks-20250112T193113Z-001/val_masks/val\")\n",
        "CHECKPOINT_PATH = os.path.join(project_path,\"Save/my_checkpoint.pth.tar\")\n",
        "PLOT_PATH = os.path.join(project_path,\"Save/Accuracy\")\n",
        "PLOT_VAL_PATH = os.path.join(project_path,\"Save/validation\")\n"
      ]
    },
    {
      "cell_type": "markdown",
      "metadata": {
        "id": "1ttLJsIihifS"
      },
      "source": [
        "# Dataset\n",
        "https://pytorch.org/tutorials/beginner/basics/data_tutorial.html"
      ]
    },
    {
      "cell_type": "code",
      "execution_count": 4,
      "metadata": {
        "id": "CYfaNaJ1h0KR"
      },
      "outputs": [],
      "source": [
        "import os\n",
        "from PIL import Image\n",
        "from torch.utils.data import Dataset\n",
        "from torch.utils.data import DataLoader\n",
        "import numpy as np\n",
        "import pdb"
      ]
    },
    {
      "cell_type": "markdown",
      "metadata": {
        "id": "6xfnG7RvjI6E"
      },
      "source": [
        "## Dataset Class\n",
        "Questions:\n",
        "1. Explain what the get_item function is for and how it is called in training mechanism?\n",
        "2. why do we have to divide mask by 255?\n"
      ]
    },
    {
      "cell_type": "markdown",
      "source": [
        "1. Ans: The __getitem__ function in the HorizonDataset class is responsible for loading an image-mask pair from the dataset when requested. It is called automatically by the PyTorch DataLoader when iterating over the dataset during training. Inside __getitem__, the function retrieves the image and mask file paths using the provided index, opens them using PIL, converts them to NumPy arrays, and applies transformations if specified. This function ensures that each batch of data is correctly formatted before being fed into the model during training. It is used implicitly by the DataLoader when looping through batches in the training function.\n",
        "\n",
        "2. Ans: The reason for dividing the mask by 255 is to normalize pixel values to a range between 0 and 1. Since mask images are usually stored in 8-bit format (values between 0 and 255), dividing by 255 converts them to a float format suitable for deep learning models, which typically expect inputs in a standardized range. This normalization helps improve numerical stability during training and allows the model to interpret the mask as a binary classification problem, where pixels closer to 1 represent the object of interest and pixels closer to 0 represent the background."
      ],
      "metadata": {
        "id": "Javkg_qjbBIj"
      }
    },
    {
      "cell_type": "code",
      "source": [
        "import os\n",
        "from torch.utils.data import Dataset\n",
        "from PIL import Image\n",
        "import numpy as np\n",
        "\n",
        "class HorizonDataset(Dataset):\n",
        "    def __init__(self, image_dir, mask_dir, transform=None):\n",
        "        self.image_dir = image_dir\n",
        "        self.mask_dir = mask_dir\n",
        "        self.transform = transform\n",
        "        self.images = os.listdir(image_dir)\n",
        "\n",
        "    def __len__(self):\n",
        "        return len(self.images)\n",
        "\n",
        "# Create a HorizonDataset class that derives from the pytorch Dataset class and complete the __getitem__(self, index) method.\n",
        "    def __getitem__(self, index):\n",
        "        img_path = os.path.join(self.image_dir, self.images[index])\n",
        "        mask_path = os.path.join(self.mask_dir, self.images[index])\n",
        "\n",
        "        # Open the image and mask using PIL\n",
        "        image = Image.open(img_path).convert(\"RGB\")  # Convert image to RGB format\n",
        "        mask = Image.open(mask_path).convert(\"L\")   # Convert mask to grayscale\n",
        "\n",
        "        # Convert to numpy arrays\n",
        "        image = np.array(image, dtype=np.float32)\n",
        "        mask = np.array(mask, dtype=np.float32)\n",
        "\n",
        "        # Normalize the mask values to [0, 1]\n",
        "        mask = mask / 255.0\n",
        "\n",
        "        # Apply augmentations (if any)\n",
        "        if self.transform is not None:\n",
        "            augmentations = self.transform(image=image, mask=mask)\n",
        "            image = augmentations[\"image\"]\n",
        "            mask = augmentations[\"mask\"]\n",
        "\n",
        "        return (image, mask)\n"
      ],
      "metadata": {
        "id": "xJjaRyVw9Zqk"
      },
      "execution_count": 5,
      "outputs": []
    },
    {
      "cell_type": "markdown",
      "metadata": {
        "id": "yvxOdDqIKwzv"
      },
      "source": [
        "## Loader definition\n",
        "Questions:\n",
        "1. Explain what the data loader is for?"
      ]
    },
    {
      "cell_type": "markdown",
      "source": [
        "Ans: The DataLoader in PyTorch is responsible for efficiently loading and managing batches of data during training and evaluation. It takes a dataset (such as the HorizonDataset class) and provides functionalities like batching, shuffling, and parallel data loading using multiple workers. Instead of loading all the data into memory at once, the DataLoader fetches small batches at a time, which improves computational efficiency and allows training on large datasets that wouldn't fit entirely in memory.\n",
        "\n",
        "During training, the DataLoader ensures that each batch is fed into the model in a structured way, handling indexing through __getitem__ and organizing the data into mini-batches. If shuffling is enabled, it randomly rearranges the dataset in each epoch to reduce bias and improve model generalization. For validation and testing, shuffling is typically disabled to maintain a consistent order for evaluation. The DataLoader significantly simplifies dataset handling, making deep learning training more scalable and efficient."
      ],
      "metadata": {
        "id": "Mz2QYs_zbT02"
      }
    },
    {
      "cell_type": "code",
      "execution_count": 6,
      "metadata": {
        "id": "kca1A-x3K4si"
      },
      "outputs": [],
      "source": [
        "# The data loader allows you to iterate over the dataset.\n",
        "# Each iteration below returns a batch of train_features and train_labels\n",
        "\n",
        "def get_loaders(\n",
        "    train_dir,\n",
        "    train_maskdir,\n",
        "    val_dir,\n",
        "    val_maskdir,\n",
        "    batch_size,\n",
        "    train_transform,\n",
        "    val_transform,\n",
        "    num_workers=4,\n",
        "    pin_memory=True,\n",
        "):\n",
        "    train_ds = HorizonDataset(\n",
        "        image_dir=train_dir,\n",
        "        mask_dir=train_maskdir,\n",
        "        transform=train_transform,\n",
        "    )\n",
        "\n",
        "# Warning to shuffle (true or false ??? explain why in commentary)\n",
        "# for training shuffel should be true in this case, we shaffle the training set to reduce Bias in training, to improve Gradient Descent efficiency, to avoid temporal or positional correlations, it also ensures better generalization in the training set. However, if we are working with time series data we wont shaffel as it will destroy the specific pettern.\n",
        "    train_loader =  DataLoader(train_ds, shuffle=True,\n",
        "                               batch_size=batch_size,\n",
        "                               pin_memory = pin_memory ,num_workers=num_workers)\n",
        "\n",
        "    val_ds = HorizonDataset(\n",
        "        image_dir=val_dir,\n",
        "        mask_dir=val_maskdir,\n",
        "        transform=val_transform,\n",
        "    )\n",
        "# Warning to shuffle (true or false ??? explain why in commentary)\n",
        "# We dont shaffle the Validation and testing datasets. These data should not be shuffled to maintain consistency in evaluation. we also don't do that for the time series data: If the order of data has temporal significance, shuffling might destroy important patterns. Use sequence-specific techniques in such cases.\n",
        "    val_loader = DataLoader(val_ds, shuffle=False,\n",
        "\t  batch_size=batch_size, pin_memory=pin_memory,\n",
        "\t  num_workers=num_workers)\n",
        "\n",
        "    return train_loader, val_loader"
      ]
    },
    {
      "cell_type": "markdown",
      "metadata": {
        "id": "gb_fRBBJNIAU"
      },
      "source": [
        "# Model definition\n",
        "https://www.pinecone.io/learn/batch-layer-normalization/\n",
        "\n",
        "https://medium.com/data-science-365/batch-normalization-explained-in-plain-english-3436014f9e52"
      ]
    },
    {
      "cell_type": "markdown",
      "metadata": {
        "id": "SbzVG6KSgJqq"
      },
      "source": [
        "![Capture d’écran de 2023-11-16 15-14-11.png](data:image/png;base64,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)"
      ]
    },
    {
      "cell_type": "code",
      "execution_count": 7,
      "metadata": {
        "id": "Hwp8y0YvNy8l"
      },
      "outputs": [],
      "source": [
        "import torch\n",
        "import torch.nn as nn\n",
        "import torchvision.transforms.functional as TF\n",
        "\n",
        "# explain the line of code below\n",
        "#The code belolow will look for GPU if it finds a GPU it will run the code using GPU otherwise it will run the code on CPU\n",
        "DEVICE = \"cuda\" if torch.cuda.is_available() else \"cpu\""
      ]
    },
    {
      "cell_type": "markdown",
      "metadata": {
        "id": "NvooFDQMNbhb"
      },
      "source": [
        "## Double convolution\n",
        "Questions:\n",
        "1. From the network diagram above, code an elementary brick composed of a convolution layer.Do the same but limiting to a single convolution layer."
      ]
    },
    {
      "cell_type": "code",
      "execution_count": 8,
      "metadata": {
        "id": "Qno3AvB9Np4M"
      },
      "outputs": [],
      "source": [
        " #Conv2d -> BatchNorm2d -> ReLU -> Conv2d -> BatchNorm2d ->  ReLU#\n",
        "class DoubleConv(nn.Module):\n",
        "    def __init__(self, in_channels, out_channels):\n",
        "        super(DoubleConv, self).__init__()\n",
        "        self.conv = nn.Sequential(\n",
        "            nn.Conv2d(in_channels, out_channels, kernel_size=3, padding=1),\n",
        "            nn.BatchNorm2d(out_channels),\n",
        "            nn.ReLU(inplace=True),\n",
        "            nn.Conv2d(out_channels, out_channels, kernel_size=3, padding=1),\n",
        "            nn.BatchNorm2d(out_channels),\n",
        "            nn.ReLU(inplace=True)\n",
        "        )\n",
        "\n",
        "    def forward(self, x):\n",
        "        return self.conv(x)"
      ]
    },
    {
      "cell_type": "code",
      "execution_count": 9,
      "metadata": {
        "id": "DF6Y0Jvi-Icu"
      },
      "outputs": [],
      "source": [
        "# The same but with only one sequence\n",
        "class SingleConv(nn.Module):\n",
        "    def __init__(self, in_channels, out_channels):\n",
        "        super(SingleConv, self).__init__()\n",
        "        self.conv = nn.Sequential(\n",
        "            nn.Conv2d(in_channels, out_channels, kernel_size=3, padding=1),\n",
        "            nn.BatchNorm2d(out_channels),\n",
        "            nn.ReLU(inplace=True)\n",
        "        )\n",
        "\n",
        "    def forward(self, x):\n",
        "        return self.conv(x)\n"
      ]
    },
    {
      "cell_type": "markdown",
      "metadata": {
        "id": "YB6b6LtuNjCS"
      },
      "source": [
        "## Model\n",
        "https://arxiv.org/pdf/1505.04597.pdf\n",
        "\n",
        "Questions :\n",
        "1.  Complete the model code from the publication schema.\n",
        "2.  Complete the descending part then the rising part of the Unet.\n",
        "3.  For the rising part, use ConvTranspose2d\n",
        "4.  Use the DoubleConv function first and then the SimpleConv, make comments"
      ]
    },
    {
      "cell_type": "code",
      "execution_count": 10,
      "metadata": {
        "id": "x2uU_5HGOETs"
      },
      "outputs": [],
      "source": [
        "import torch.nn as nn\n",
        "\n",
        "class UNET(nn.Module):\n",
        "    def __init__(self, in_channels=3, out_channels=1, features=[64, 128, 256, 512]):\n",
        "        super(UNET, self).__init__()\n",
        "        self.ups = nn.ModuleList()\n",
        "        self.downs = nn.ModuleList()\n",
        "        self.pool = nn.MaxPool2d(kernel_size=2, stride=2)\n",
        "\n",
        "        # Down part of UNET\n",
        "        for feature in features:\n",
        "            self.downs.append(DoubleConv(in_channels, feature))\n",
        "            in_channels = feature\n",
        "\n",
        "        # Up part of UNET\n",
        "        for feature in reversed(features):\n",
        "            self.ups.append(\n",
        "                nn.ConvTranspose2d(feature * 2, feature, kernel_size=2, stride=2)\n",
        "            )\n",
        "            self.ups.append(DoubleConv(feature * 2, feature))\n",
        "\n",
        "        # Bottleneck\n",
        "        self.bottleneck = SingleConv(features[-1], features[-1] * 2)\n",
        "\n",
        "        # Final Convolution\n",
        "        self.final_conv = nn.Conv2d(features[0], out_channels, kernel_size=1)\n",
        "\n",
        "    def forward(self, x):\n",
        "        skip_connections = []\n",
        "\n",
        "        for down in self.downs:\n",
        "            x = down(x)\n",
        "            skip_connections.append(x)\n",
        "            x = self.pool(x)\n",
        "\n",
        "        x = self.bottleneck(x)\n",
        "        skip_connections = skip_connections[::-1]\n",
        "\n",
        "        for idx in range(0, len(self.ups), 2):\n",
        "            x = self.ups[idx](x)\n",
        "            skip_connection = skip_connections[idx // 2]\n",
        "\n",
        "            if x.shape != skip_connection.shape:\n",
        "                x = TF.resize(x, size=skip_connection.shape[2:])\n",
        "\n",
        "            concat_skip = torch.cat((skip_connection, x), dim=1)\n",
        "            x = self.ups[idx + 1](concat_skip)\n",
        "\n",
        "        return self.final_conv(x)"
      ]
    },
    {
      "cell_type": "markdown",
      "metadata": {
        "id": "FcN9gnZZeeV-"
      },
      "source": [
        "# Evaluation metric\n",
        "Evaluation metrics are quantitative measures used to assess the performance and effectiveness of a statistical or machine learning model. These metrics provide insights into how well the model is performing and help in comparing different models or algorithms.\n",
        "\n",
        "https://www.analyticsvidhya.com/blog/2019/08/11-important-model-evaluation-error-metrics/\n",
        "\n",
        "Q: Write a function which calculates the accuracy which is the number of pixels OK compared to the total number of pixels and which calculates the dice score. This function will return the dice score as a validation metric.\n",
        "Comment on the use of model.eval() and model.train()"
      ]
    },
    {
      "cell_type": "code",
      "execution_count": 11,
      "metadata": {
        "id": "doRVbNu7eyDZ"
      },
      "outputs": [],
      "source": [
        "def check_accuracy(loader, model, device=\"cuda\"):\n",
        "    num_correct = 0\n",
        "    num_pixels = 0\n",
        "    dice_score = 0\n",
        "    model.eval()  # put the model in evaluation mode\n",
        "\n",
        "    '#TODO'\n",
        "    # Use torch.no_grad() to disable gradient tracking during validation\n",
        "    with torch.no_grad():\n",
        "        for x, y in loader:\n",
        "            x, y = x.to(device), y.to(device)\n",
        "\n",
        "            # Make predictions using the model\n",
        "            preds = model(x)\n",
        "\n",
        "            # Convert predictions to a binary mask (thresholding)\n",
        "            preds = torch.sigmoid(preds)  # Apply sigmoid activation to get probabilities\n",
        "            preds = (preds > 0.5).float()  # Thresholding: values > 0.5 become 1, else 0\n",
        "\n",
        "            # As 'y' is a single-channel binary mask\n",
        "            if y.shape[-1] == 3:\n",
        "                y = y[..., 0].unsqueeze(1)  # Take the first channel and add the channel dimension\n",
        "\n",
        "            # Calculate evaluation metrics (Dice coefficient and accuracy)\n",
        "            num_correct += (preds == y).sum()  # Count the number of correct pixels\n",
        "            num_pixels += torch.numel(preds)  # Count the total number of pixels\n",
        "            dice_score += (2 * (preds * y).sum()) / ((preds + y).sum() + 1e-8) # Add 1e-8 to avoid division by zero\n",
        "\n",
        "    # Calculate validation accuracy (Dice coefficient) over the entire validation dataset\n",
        "    val_accuracy = dice_score / len(loader)\n",
        "    '#TODO'\n",
        "\n",
        "    print(\n",
        "        f\"Got {num_correct}/{num_pixels} with acc {num_correct/num_pixels:.2f}%\"\n",
        "    )\n",
        "    print(f\"Dice score: {val_accuracy}\")\n",
        "    model.train()  # put the model back in training mode\n",
        "\n",
        "    return val_accuracy"
      ]
    },
    {
      "cell_type": "markdown",
      "metadata": {
        "id": "wM93GPlLOtDk"
      },
      "source": [
        "# Training\n",
        "https://www.analyticsvidhya.com/blog/2023/01/gradient-descent-vs-backpropagation-whats-the-difference/"
      ]
    },
    {
      "cell_type": "code",
      "execution_count": 12,
      "metadata": {
        "id": "murdouflO6xM",
        "colab": {
          "base_uri": "https://localhost:8080/"
        },
        "outputId": "0aef8f4c-63f7-456b-d5c5-bce50352c0f7"
      },
      "outputs": [
        {
          "output_type": "stream",
          "name": "stderr",
          "text": [
            "/usr/local/lib/python3.11/dist-packages/albumentations/__init__.py:24: UserWarning: A new version of Albumentations is available: 2.0.2 (you have 1.4.20). Upgrade using: pip install -U albumentations. To disable automatic update checks, set the environment variable NO_ALBUMENTATIONS_UPDATE to 1.\n",
            "  check_for_updates()\n"
          ]
        }
      ],
      "source": [
        "import torch\n",
        "import albumentations as A\n",
        "from albumentations.pytorch import ToTensorV2\n",
        "from tqdm import tqdm\n",
        "import torch.nn as nn\n",
        "import torch.optim as optim\n",
        "from torch.optim import SGD\n",
        "from torch.optim.lr_scheduler import ReduceLROnPlateau\n",
        "\n",
        "DEVICE = \"cuda\" if torch.cuda.is_available() else \"cpu\"\n",
        "NUM_WORKERS = 2\n",
        "IMAGE_HEIGHT = 128  # 1280 originally\n",
        "IMAGE_WIDTH = 256  # 1918 originally\n",
        "PIN_MEMORY = True\n",
        "LOAD_MODEL = False"
      ]
    },
    {
      "cell_type": "markdown",
      "metadata": {
        "id": "3fOcFE9EXcU-"
      },
      "source": [
        "## Hyper parameters"
      ]
    },
    {
      "cell_type": "code",
      "execution_count": 13,
      "metadata": {
        "id": "YLoJD4xeXi7K"
      },
      "outputs": [],
      "source": [
        "class HyperParameters:\n",
        "    def __init__(self, learning_rate, batch_size, epoch_numbers, device=\"cuda\"):\n",
        "        self.learning_rate = learning_rate\n",
        "        self.batch_size = batch_size\n",
        "        self.epoch_numbers = epoch_numbers\n",
        "        self.device = device  # Added device as an attribute\n"
      ]
    },
    {
      "cell_type": "markdown",
      "metadata": {
        "id": "7OHbbUy2OyZi"
      },
      "source": [
        "## Train function\n",
        "Qestions\n",
        "1. Write a function that calculates the loss on validation data.\n",
        "2. Write a function that saves an image and the network prediction for each epoch to visualize the learning progress.\n",
        "3. Write a function that calculates the loss on training data.\n",
        "4. Make a comment on optimizer.zero_grad(), scaler.scale(loss).backward(),scaler.step(optimizer), scaler.update()\n"
      ]
    },
    {
      "cell_type": "code",
      "execution_count": 14,
      "metadata": {
        "id": "Q2Q0RDeQYd7V"
      },
      "outputs": [],
      "source": [
        "def check_val_loss(loader, model, loss_fn, device=\"cuda\"):\n",
        "    totalValLoss = 0.0\n",
        "    model.eval()  # Set the model to evaluation mode to disable certain layers like dropout and batch normalization during inference.\n",
        "\n",
        "    with torch.no_grad():\n",
        "        for data, targets in loader:\n",
        "            data, targets = data.to(device), targets.float().unsqueeze(1).to(device)  # Move input data and targets to the specified device (GPU or CPU).\n",
        "            outputs = model(data)  # Perform inference to obtain model predictions.\n",
        "            loss = loss_fn(outputs, targets)  # Calculate the loss between predictions and ground truth targets.\n",
        "            totalValLoss += loss.item()  # Accumulate the validation loss for all batches.\n",
        "\n",
        "    val_loss = totalValLoss / len(loader)  # Calculate the average validation loss over the entire validation dataset.\n",
        "\n",
        "    print(f\"Val loss: {val_loss}\")\n",
        "    model.train()  # Set the model back to training mode with enabled layers like dropout and batch normalization.\n",
        "\n",
        "    return val_loss\n",
        "\n",
        "def save_eval(loader, model, epoch, file_path=\"eval_image\", device=\"cuda\"):\n",
        "\n",
        "    model.eval()  # Set the model to evaluation mode to disable certain layers like dropout and batch normalization during inference.\n",
        "\n",
        "    with torch.no_grad():\n",
        "        val_images, val_masks = next(iter(loader))  # Get a batch of validation images and masks.\n",
        "        val_images = val_images.to(device)  # Move validation images to the specified device (GPU or CPU).\n",
        "        filename = file_path + \"_\" + str(epoch)\n",
        "        predictions = model(val_images)  # Obtain model predictions (logits).\n",
        "        preds = torch.sigmoid(predictions)  # Apply sigmoid activation to obtain probability maps.\n",
        "\n",
        "        # Extract individual numpy arrays for visualization.\n",
        "        image = val_images[0][0].cpu().numpy()  # Extract the first image from the batch.\n",
        "        mask = val_masks[0].cpu().numpy()  # Extract the corresponding ground truth mask.\n",
        "        pred_mask = preds[0, 0, :, :].cpu().numpy()  # Extract the predicted mask from the probability map.\n",
        "\n",
        "        # Create subplots to visualize the original image, ground truth, and predicted mask.\n",
        "        fig, axs = plt.subplots(1, 3, figsize=(10, 3))\n",
        "        axs[0].imshow(image, cmap='gray')\n",
        "        axs[0].set_title('Image')\n",
        "        axs[1].imshow(mask, cmap='gray')\n",
        "        axs[1].set_title('Base Mask')\n",
        "        axs[2].imshow(pred_mask, cmap='gray')\n",
        "        axs[2].set_title('Predicted Mask')\n",
        "\n",
        "        # Add a title to the entire figure.\n",
        "        fig.suptitle(f'Image, Base Mask, and Predicted Mask for epoch: {epoch}')\n",
        "\n",
        "        # Save the figure as an image file.\n",
        "        plt.savefig(f\"{filename}_sample.png\")\n",
        "        plt.close()\n",
        "        # This code extracts a single image and its corresponding mask from the data loader, feeds it through the model to obtain predictions,\n",
        "        # and then visualizes the original image, ground truth mask, and predicted mask using matplotlib.\n",
        "\n",
        "    model.train()  # Set the model back to training mode with enabled layers like dropout and batch normalization.\n"
      ]
    },
    {
      "cell_type": "code",
      "execution_count": 15,
      "metadata": {
        "id": "To5UZqWwPImm"
      },
      "outputs": [],
      "source": [
        "from tqdm import tqdm\n",
        "\n",
        "def train_fn(loader, model, optimizer, loss_fn, scaler):\n",
        "    loop = tqdm(loader, total=len(loader), unit=\"batch\")\n",
        "    totalTrainLoss = 0.0\n",
        "\n",
        "    # Loop through batches of data and targets\n",
        "    for batch_idx, (data, targets) in enumerate(loop):\n",
        "        # Move data and targets to the specified device (usually GPU)\n",
        "        data = data.to(device=DEVICE)\n",
        "        targets = targets.to(device=DEVICE).unsqueeze(1)\n",
        "\n",
        "        # Perform forward pass through the neural network model\n",
        "        with torch.cuda.amp.autocast():\n",
        "            predictions = model(data)  # Get model predictions for the batch\n",
        "            loss = loss_fn(predictions, targets)  # Calculate the loss for this batch\n",
        "            totalTrainLoss += loss  # Accumulate the total training loss\n",
        "\n",
        "        # Backward pass and optimization\n",
        "        optimizer.zero_grad()  # Clear any previous gradients before backpropagation\n",
        "        scaler.scale(loss).backward()  # Scale the loss to avoid gradient underflow and perform backpropagation\n",
        "        scaler.step(optimizer)  # Update model weights using the optimizer\n",
        "        scaler.update()  # Update the gradient scaler for dynamic loss scaling\n",
        "\n",
        "        # Update the progress bar (tqdm loop) to display the current loss\n",
        "        loop.set_postfix(loss=loss.item(), refresh=False)\n",
        "        loop.update()\n",
        "\n",
        "    loop.close()  # Close the tqdm loop\n",
        "\n",
        "    train_loss = totalTrainLoss/len(loader)\n",
        "    print(f\"Train loss: {train_loss}\")\n",
        "\n",
        "    return train_loss"
      ]
    },
    {
      "cell_type": "markdown",
      "metadata": {
        "id": "HtECuTQtPz2D"
      },
      "source": [
        "## Training script\n",
        "Questions:\n",
        "1. Write a function wich plot and save train_loss, val_loss and val_acc\n",
        "2. Write a function which save ckeckpoint file\n",
        "3. Make a comment on:\n",
        "A.Resize(height=IMAGE_HEIGHT, width=IMAGE_WIDTH),\n",
        "            A.Rotate(limit=35, p=1.0),\n",
        "            A.HorizontalFlip(p=0.5),\n",
        "            A.VerticalFlip(p=0.1),\n",
        "            A.Normalize(\n",
        "                mean=[0.0],\n",
        "                std=[1.0],\n",
        "                max_pixel_value=255.0,\n",
        "            )\n",
        "4.  Why are transformations missing for validation data?\n",
        "5.  Why  nn.BCEWithLogitsLoss() is used instead of classical BCE?\n",
        "6.  Make a comment on: torch.cuda.amp.GradScaler()\n",
        "7.  What is Adam? What’s the main difference between Adam and SGD?"
      ]
    },
    {
      "cell_type": "markdown",
      "source": [
        "1. Why are transformations missing for validation data?\n",
        "Transformations such as random rotation, flipping, and augmentation are applied to training data to introduce variability and improve the model’s generalization. However, for validation data, we do not apply these transformations because validation serves as a benchmark for model performance. If we modify the validation data, it will no longer reflect real-world conditions, leading to an inconsistent evaluation of the model's ability to generalize. The validation dataset should remain unchanged to provide a fair and stable measure of the model’s performance across different training iterations.\n",
        "\n",
        "2. Why is nn.BCEWithLogitsLoss() used instead of classical BCE?\n",
        "nn.BCEWithLogitsLoss() is used instead of the classical Binary Cross-Entropy (BCE) because it combines the sigmoid activation function with BCE loss in a single, numerically stable operation. When using standard BCE loss, you must manually apply a sigmoid activation to your model’s outputs before computing the loss. However, doing so separately can lead to numerical instability, especially for extreme values. BCEWithLogitsLoss() internally applies sigmoid, preventing vanishing gradients and improving numerical precision, making it the preferred choice for binary classification tasks.\n",
        "\n",
        "3. Comment on torch.cuda.amp.GradScaler()\n",
        "torch.cuda.amp.GradScaler() is a feature in Automatic Mixed Precision (AMP) that helps improve training efficiency when using half-precision (float16) computations. Normally, deep learning models use float32 (single-precision), but AMP allows certain operations to be performed in float16, reducing memory consumption and improving GPU performance. However, using float16 can sometimes cause numerical underflow, where very small gradients become zero. GradScaler() dynamically scales up the gradients to prevent underflow, ensuring stable training while taking advantage of mixed-precision speedup.\n",
        "\n",
        "4. What is Adam? What’s the main difference between Adam and SGD?\n",
        "Adam (Adaptive Moment Estimation) is an adaptive optimization algorithm that combines the benefits of momentum-based optimization (like SGD with momentum) and RMSprop (adaptive learning rates). It uses two moving averages:\n",
        "\n",
        "First moment estimate (mean of past gradients)\n",
        "Second moment estimate (uncentered variance of past gradients)\n",
        "The main difference between Adam and Stochastic Gradient Descent (SGD) is:\n",
        "\n",
        "SGD updates weights using the same learning rate for all parameters, which can make convergence slower and sensitive to learning rate choices.\n",
        "Adam adapts the learning rate individually for each parameter based on past gradients, making it more suitable for noisy datasets and non-stationary objectives.\n"
      ],
      "metadata": {
        "id": "OqgfIQ6sdimc"
      }
    },
    {
      "cell_type": "code",
      "execution_count": 16,
      "metadata": {
        "id": "3z3smQ39ObX0"
      },
      "outputs": [],
      "source": [
        "import matplotlib.pyplot as plt\n",
        "from torchvision.io import read_image\n",
        "\n",
        "class Results:\n",
        "    def __init__(self, file_path=\"results\"):\n",
        "        self.result_dict = {\n",
        "            \"train_loss\": [],\n",
        "            \"val_loss\": [],\n",
        "            \"val_acc\": []\n",
        "        }\n",
        "        self.path = file_path\n",
        "\n",
        "    def add_result(self, train_loss, val_loss, val_acc):\n",
        "        self.result_dict[\"train_loss\"].append(train_loss)\n",
        "        self.result_dict[\"val_loss\"].append(val_loss)\n",
        "        self.result_dict[\"val_acc\"].append(val_acc)\n",
        "\n",
        "    def plotAndSave(self, n_epoch):\n",
        "        filename = self.path + \"_\" + str(n_epoch)\n",
        "        plt.figure(figsize=(10, 4))\n",
        "\n",
        "        # Ensure each element in the lists is a PyTorch tensor, detach, and move to CPU\n",
        "        train_loss_cpu = [tensor.detach().cpu().numpy() if isinstance(tensor, torch.Tensor) else tensor for tensor in self.result_dict[\"train_loss\"]]\n",
        "        val_loss_cpu = [tensor.detach().cpu().numpy() if isinstance(tensor, torch.Tensor) else tensor for tensor in self.result_dict[\"val_loss\"]]\n",
        "        val_acc_cpu = [tensor.detach().cpu().numpy() if isinstance(tensor, torch.Tensor) else tensor for tensor in self.result_dict[\"val_acc\"]]\n",
        "\n",
        "        plt.subplot(1, 3, 1)\n",
        "        plt.plot(np.arange(n_epoch + 1), train_loss_cpu, label='Train Loss')\n",
        "        plt.title('Train Loss')\n",
        "\n",
        "        plt.subplot(1, 3, 2)\n",
        "        plt.plot(np.arange(n_epoch + 1), val_loss_cpu, label='Validation Loss')\n",
        "        plt.title('Validation Loss')\n",
        "\n",
        "        plt.subplot(1, 3, 3)\n",
        "        plt.plot(np.arange(n_epoch + 1), val_acc_cpu, label='Validation Accuracy')\n",
        "        plt.title('Validation Accuracy')\n",
        "\n",
        "        plt.legend()\n",
        "        plt.savefig(f'{filename}.png')\n",
        "        plt.show()"
      ]
    },
    {
      "cell_type": "code",
      "execution_count": 17,
      "metadata": {
        "id": "_deW8HZlP9FG"
      },
      "outputs": [],
      "source": [
        "def save_checkpoint(state, filename=\"my_checkpoint.pth.tar\"):\n",
        "    print(\"=> Saving checkpoint: \")\n",
        "    print(filename)\n",
        "    torch.save(state, filename)\n",
        "\n",
        "# Define a function to load a checkpoint and update the model's state.\n",
        "def load_checkpoint(checkpoint, model):\n",
        "    print(\"=> Loading checkpoint\")\n",
        "    model.load_state_dict(checkpoint[\"state_dict\"])\n",
        "\n",
        "# Define the main training function, which takes hyperparameters as input.\n",
        "def run_training(hyper_parameters):\n",
        "    # Create an object to store and visualize training results.\n",
        "    results = Results(file_path=PLOT_PATH)\n",
        "\n",
        "    # Define data augmentation transformations for training images.\n",
        "    train_transform = A.Compose([\n",
        "        A.Resize(height=IMAGE_HEIGHT, width=IMAGE_WIDTH),  # Resize images to a fixed size\n",
        "        A.Rotate(limit=35, p=1.0),  # Randomly rotate images\n",
        "        A.HorizontalFlip(p=0.5),  # Randomly flip images horizontally\n",
        "        A.VerticalFlip(p=0.1),  # Randomly flip images vertically\n",
        "        A.Normalize(\n",
        "            mean=[0.0],\n",
        "            std=[1.0],\n",
        "            max_pixel_value=255.0,\n",
        "        ),  # Normalize images with mean and standard deviation\n",
        "        ToTensorV2(),  # Convert images to tensors\n",
        "    ])\n",
        "\n",
        "    # Define data augmentation transformations for validation images.\n",
        "    val_transforms = A.Compose([\n",
        "        A.Resize(height=IMAGE_HEIGHT, width=IMAGE_WIDTH),  # Resize images to a fixed size\n",
        "        A.Normalize(\n",
        "            mean=[0.0],\n",
        "            std=[1.0],\n",
        "            max_pixel_value=255.0,\n",
        "        ),  # Normalize images with mean and standard deviation\n",
        "        ToTensorV2(),  # Convert images to tensors\n",
        "    ])\n",
        "\n",
        "#     # Create an instance of the UNET model and move it to the specified device (usually GPU).\n",
        "#     model = UNET().to(DEVICE)\n",
        "#     # Define the loss function for training.\n",
        "#     loss_fn = nn.BCEWithLogitsLoss()\n",
        "#     # Define the optimizer (Adam) with the specified learning rate.\n",
        "#     optimizer = optim.Adam(model.parameters(), lr=hyper_parameters.learning_rate)\n",
        "\n",
        "\n",
        "    model = UNET(in_channels=3, out_channels=1).to(device=DEVICE)\n",
        "    loss_fn = nn.BCEWithLogitsLoss()\n",
        "    optimizer = SGD(model.parameters(), lr=0.01, momentum=0.9)\n",
        "    scheduler = ReduceLROnPlateau(optimizer, mode='min', patience=3, factor=0.5, verbose=True)\n",
        "\n",
        "    # Create data loaders for training and validation datasets.\n",
        "    train_loader, val_loader = get_loaders(\n",
        "        TRAIN_IMG_DIR,\n",
        "        TRAIN_MASK_DIR,\n",
        "        VAL_IMG_DIR,\n",
        "        VAL_MASK_DIR,\n",
        "        hyper_parameters.batch_size,\n",
        "        train_transform,\n",
        "        val_transforms,\n",
        "        NUM_WORKERS,\n",
        "        PIN_MEMORY,\n",
        "    )\n",
        "\n",
        "    # If a saved model checkpoint exists, load it.\n",
        "    if LOAD_MODEL:\n",
        "        load_checkpoint(torch.load(\"my_checkpoint.pth.tar\"), model)\n",
        "\n",
        "    # Check the accuracy of the model on the validation dataset.\n",
        "    check_accuracy(val_loader, model, device=DEVICE)\n",
        "\n",
        "    # Create a gradient scaler for mixed-precision training (used later in the loop).\n",
        "    scaler = torch.cuda.amp.GradScaler()\n",
        "\n",
        "    # Loop through training epochs.\n",
        "    for epoch in range(hyper_parameters.epoch_numbers):\n",
        "        # Train the model for one epoch and calculate the training loss.\n",
        "        train_loss = train_fn(train_loader, model, optimizer, loss_fn, scaler)\n",
        "\n",
        "        # Save the model's state and optimizer parameters as a checkpoint.\n",
        "        checkpoint = {\n",
        "            \"state_dict\": model.state_dict(),\n",
        "            \"optimizer\": optimizer.state_dict(),\n",
        "        }\n",
        "        save_checkpoint(checkpoint, filename=CHECKPOINT_PATH)\n",
        "\n",
        "        # Save evaluation results, including validation images with predictions.\n",
        "        save_eval(val_loader, model, epoch, PLOT_VAL_PATH, device=DEVICE)\n",
        "\n",
        "        # Calculate the validation loss.\n",
        "        val_loss = check_val_loss(val_loader, model, loss_fn)\n",
        "\n",
        "        # Calculate the accuracy on the validation dataset.\n",
        "        val_accuracy = check_accuracy(val_loader, model, device=\"cuda\")\n",
        "\n",
        "        # Add the training and validation results to the results object.\n",
        "        results.add_result(train_loss, val_loss, val_accuracy)\n",
        "\n",
        "        # Plot and save the results for the current epoch.\n",
        "        results.plotAndSave(epoch)\n",
        "\n",
        "        # Save evaluation results again for good measure.\n",
        "        save_eval(val_loader, model, epoch, PLOT_VAL_PATH, device=\"cuda\")\n",
        "\n",
        "    # Return the trained model.\n",
        "    return model"
      ]
    },
    {
      "cell_type": "markdown",
      "metadata": {
        "id": "4fPqdEELY5ni"
      },
      "source": [
        "# Run Training"
      ]
    },
    {
      "cell_type": "code",
      "execution_count": null,
      "metadata": {
        "collapsed": true,
        "id": "bKaaZBN9ZEFh",
        "colab": {
          "base_uri": "https://localhost:8080/"
        },
        "outputId": "2586f321-1f29-47b7-aee7-e44d232627ae"
      },
      "outputs": [
        {
          "output_type": "stream",
          "name": "stderr",
          "text": [
            "/usr/local/lib/python3.11/dist-packages/torch/optim/lr_scheduler.py:62: UserWarning: The verbose parameter is deprecated. Please use get_last_lr() to access the learning rate.\n",
            "  warnings.warn(\n"
          ]
        }
      ],
      "source": [
        "\n",
        "# Define hyperparameters with the corrected class\n",
        "hyper_parameters = HyperParameters(learning_rate=1e-4, batch_size=4, epoch_numbers=10, device=\"cuda\")\n",
        "\n",
        "# Run the training function\n",
        "run_training(hyper_parameters)\n"
      ]
    },
    {
      "cell_type": "markdown",
      "metadata": {
        "id": "6joNPNTHEudZ"
      },
      "source": [
        "# Evaluation"
      ]
    },
    {
      "cell_type": "code",
      "execution_count": null,
      "metadata": {
        "id": "H04toy4DE2bo"
      },
      "outputs": [],
      "source": [
        "# Initialize the model\n",
        "model = UNET(in_channels=3, out_channels=1).to(device=DEVICE)\n",
        "\n",
        "# Load the checkpoint\n",
        "checkpoint = torch.load(CHECKPOINT_PATH, weights_only=True)\n",
        "load_checkpoint(checkpoint, model)\n",
        "\n",
        "# Validation transformations\n",
        "val_transforms = A.Compose(\n",
        "    [\n",
        "        A.Resize(height=IMAGE_HEIGHT, width=IMAGE_WIDTH),\n",
        "        A.Normalize(mean=[0.0], std=[1.0], max_pixel_value=255.0),\n",
        "        ToTensorV2(),\n",
        "    ]\n",
        ")\n",
        "\n",
        "# Validation dataset and loader\n",
        "val_ds = HorizonDataset(\n",
        "    image_dir=VAL_IMG_DIR,\n",
        "    mask_dir=VAL_MASK_DIR,\n",
        "    transform=val_transforms,\n",
        ")\n",
        "val_loader = DataLoader(\n",
        "    val_ds,\n",
        "    batch_size=4,\n",
        "    num_workers=2,\n",
        "    pin_memory=True,\n",
        "    shuffle=False,\n",
        ")\n",
        "\n",
        "# Get a batch of validation images and masks\n",
        "val_images, val_masks = next(iter(val_loader))\n",
        "\n",
        "# Move images to the appropriate device and get predictions\n",
        "data = val_images.to(device=DEVICE)\n",
        "with torch.no_grad():\n",
        "    y = model(data)\n",
        "\n",
        "# Apply sigmoid activation and convert predictions to NumPy\n",
        "preds = torch.sigmoid(y).cpu().numpy()\n",
        "\n",
        "# Visualize the input image and its predicted mask\n",
        "f = plt.figure()\n",
        "f.add_subplot(1, 2, 1)\n",
        "plt.imshow(val_images[1][0].cpu().numpy(), cmap=\"gray\")  # Input image\n",
        "f.add_subplot(1, 2, 2)\n",
        "plt.imshow(preds[1][0], cmap=\"gray\")  # Predicted mask\n",
        "plt.show(block=True)"
      ]
    },
    {
      "cell_type": "code",
      "source": [
        "import matplotlib.pyplot as plt\n",
        "import numpy as np\n",
        "\n",
        "# Simulated data (replace these with actual logged values from training)\n",
        "epochs = 10\n",
        "\n",
        "# Placeholder loss and accuracy values (replace with actual values from your training results)\n",
        "train_loss = np.random.uniform(0.1, 0.5, epochs)  # Simulating decreasing loss\n",
        "val_loss = np.random.uniform(0.1, 0.6, epochs)    # Simulating decreasing validation loss\n",
        "val_acc = np.random.uniform(0.7, 0.95, epochs)    # Simulating increasing validation accuracy\n",
        "\n",
        "# Plot Training & Validation Loss\n",
        "plt.figure(figsize=(12, 5))\n",
        "plt.subplot(1, 2, 1)\n",
        "plt.plot(np.arange(1, epochs + 1), train_loss, label=\"Train Loss\", marker='o')\n",
        "plt.plot(np.arange(1, epochs + 1), val_loss, label=\"Validation Loss\", marker='s')\n",
        "plt.xlabel(\"Epochs\")\n",
        "plt.ylabel(\"Loss\")\n",
        "plt.title(\"Training & Validation Loss\")\n",
        "plt.legend()\n",
        "plt.grid(True)\n",
        "\n",
        "# Plot Validation Accuracy\n",
        "plt.subplot(1, 2, 2)\n",
        "plt.plot(np.arange(1, epochs + 1), val_acc, label=\"Validation Accuracy\", marker='d', color='g')\n",
        "plt.xlabel(\"Epochs\")\n",
        "plt.ylabel(\"Accuracy\")\n",
        "plt.title(\"Validation Accuracy\")\n",
        "plt.legend()\n",
        "plt.grid(True)\n",
        "\n",
        "plt.show()\n"
      ],
      "metadata": {
        "id": "n9cuFnfHj29-"
      },
      "execution_count": null,
      "outputs": []
    },
    {
      "cell_type": "code",
      "source": [],
      "metadata": {
        "id": "KHH_Fat9Zk6_"
      },
      "execution_count": null,
      "outputs": []
    }
  ],
  "metadata": {
    "accelerator": "GPU",
    "colab": {
      "gpuType": "T4",
      "provenance": [],
      "include_colab_link": true
    },
    "kernelspec": {
      "display_name": "Python 3",
      "name": "python3"
    },
    "language_info": {
      "name": "python"
    }
  },
  "nbformat": 4,
  "nbformat_minor": 0
}